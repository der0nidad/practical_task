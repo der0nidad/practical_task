{
 "cells": [
  {
   "cell_type": "code",
   "execution_count": 6,
   "metadata": {},
   "outputs": [],
   "source": [
    "import re\n",
    "import collections\n",
    "import json\n",
    "\n",
    "import numpy as np\n",
    "import xml2json\n",
    "import sklearn\n",
    "import pymorphy2\n",
    "\n",
    "from sklearn import svm"
   ]
  },
  {
   "cell_type": "code",
   "execution_count": 7,
   "metadata": {},
   "outputs": [],
   "source": [
    "b = json.loads(open('train.json').read())"
   ]
  },
  {
   "cell_type": "code",
   "execution_count": 8,
   "metadata": {},
   "outputs": [],
   "source": [
    "list(b)\n",
    "b = b['pma_xml_export']\n",
    "b = b['database']\n",
    "b = b['table']"
   ]
  },
  {
   "cell_type": "code",
   "execution_count": 9,
   "metadata": {},
   "outputs": [],
   "source": [
    "morph = pymorphy2.MorphAnalyzer()\n",
    "dictTrain = collections.Counter()"
   ]
  },
  {
   "cell_type": "code",
   "execution_count": 10,
   "metadata": {},
   "outputs": [],
   "source": [
    "trainMatr = {}"
   ]
  },
  {
   "cell_type": "code",
   "execution_count": 11,
   "metadata": {},
   "outputs": [],
   "source": [
    "for tweetText in b:\n",
    "    for word in re.findall(r'[а-яА-Я]+',tweetText['column'][3]['#text']):\n",
    "#        add_to_dict(diccc, word.lower())\n",
    "        dictTrain[morph.parse(word.lower())[0].normal_form]+=1"
   ]
  },
  {
   "cell_type": "code",
   "execution_count": 12,
   "metadata": {},
   "outputs": [
    {
     "data": {
      "text/plain": [
       "182"
      ]
     },
     "execution_count": 12,
     "metadata": {},
     "output_type": "execute_result"
    }
   ],
   "source": [
    "str(dictTrain)[:]\n",
    "itr = 0\n",
    "for wordd in dictTrain:\n",
    "    if dictTrain[wordd] > 50: \n",
    "        itr+=1\n",
    "        trainMatr[wordd] = itr\n",
    "itr"
   ]
  },
  {
   "cell_type": "code",
   "execution_count": 13,
   "metadata": {},
   "outputs": [],
   "source": [
    "#функция isbank() возвращает вектор, чьи компоненты ==0, кроме той, которая соотв. номеру банка 1. сбербанк, 2. втб, 3. газпром, 4. альфабанк 5. банкмосквы, 6. райффайзен, 7. уралсиб, 8. россельхоз"
   ]
  },
  {
   "cell_type": "code",
   "execution_count": 14,
   "metadata": {},
   "outputs": [],
   "source": [
    "def isbank(c,i):\n",
    "    a = [0 for i in range(8)]\n",
    "    for j in range(8):\n",
    "        if c[i]['column'][j+4]['#text'] != 'NULL':\n",
    "            a[j] = 1\n",
    "    return a"
   ]
  },
  {
   "cell_type": "code",
   "execution_count": 15,
   "metadata": {},
   "outputs": [],
   "source": [
    "def gety(c,i):\n",
    "    y = 0\n",
    "    for j in range(8):\n",
    "        if c[i]['column'][j+4]['#text'] != 'NULL':\n",
    "           \n",
    "            y = float(c[i]['column'][j+4]['#text'])\n",
    "    return y"
   ]
  },
  {
   "cell_type": "code",
   "execution_count": 18,
   "metadata": {},
   "outputs": [],
   "source": [
    "lTrain = list()\n",
    "lY = list()\n",
    "ind = 0\n",
    "for tweetText in b:\n",
    "    vectTrain = [0 for i in range(itr+8)]\n",
    "    for wordd in re.findall(r'[а-яА-Я]+',tweetText['column'][3]['#text']):\n",
    "        if wordd in trainMatr:            \n",
    "            vectTrain[trainMatr[wordd]] +=1\n",
    "            #vordvec.append(freqmatr[word])\n",
    "    vectTrain[itr:] = isbank(b, ind)\n",
    "    lY.append(gety(b,ind))\n",
    "    ind+=1\n",
    "    lTrain.append(vectTrain)"
   ]
  },
  {
   "cell_type": "code",
   "execution_count": 19,
   "metadata": {},
   "outputs": [
    {
     "name": "stdout",
     "output_type": "stream",
     "text": [
      "(9392, 190) (9392,)\n"
     ]
    }
   ],
   "source": [
    "X_train, Y_train = np.asarray(lTrain), np.asarray(lY)\n",
    "print(X_train.shape, Y_train.shape)"
   ]
  },
  {
   "cell_type": "code",
   "execution_count": 20,
   "metadata": {},
   "outputs": [
    {
     "data": {
      "text/plain": [
       "SVC(C=1.0, cache_size=200, class_weight=None, coef0=0.0,\n",
       "  decision_function_shape='ovr', degree=3, gamma='auto', kernel='rbf',\n",
       "  max_iter=-1, probability=False, random_state=None, shrinking=True,\n",
       "  tol=0.001, verbose=False)"
      ]
     },
     "execution_count": 20,
     "metadata": {},
     "output_type": "execute_result"
    }
   ],
   "source": [
    "clf = sklearn.svm.SVC()\n",
    "#clf = GradientBoostingClassifier(n_estimators=10000)\n",
    "clf.fit(X_train[100:], Y_train[100:])"
   ]
  },
  {
   "cell_type": "code",
   "execution_count": 21,
   "metadata": {},
   "outputs": [
    {
     "name": "stdout",
     "output_type": "stream",
     "text": [
      "74\n"
     ]
    }
   ],
   "source": [
    "print((clf.predict(X_train[:100]) == Y_train[:100]).sum())"
   ]
  },
  {
   "cell_type": "code",
   "execution_count": null,
   "metadata": {},
   "outputs": [],
   "source": []
  }
 ],
 "metadata": {
  "kernelspec": {
   "display_name": "Python 3",
   "language": "python",
   "name": "python3"
  },
  "language_info": {
   "codemirror_mode": {
    "name": "ipython",
    "version": 3
   },
   "file_extension": ".py",
   "mimetype": "text/x-python",
   "name": "python",
   "nbconvert_exporter": "python",
   "pygments_lexer": "ipython3",
   "version": "3.5.2"
  }
 },
 "nbformat": 4,
 "nbformat_minor": 2
}
